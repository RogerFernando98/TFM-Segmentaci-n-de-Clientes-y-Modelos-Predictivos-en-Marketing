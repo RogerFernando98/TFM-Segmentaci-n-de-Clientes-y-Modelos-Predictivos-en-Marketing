{
 "cells": [
  {
   "cell_type": "markdown",
   "metadata": {},
   "source": [
    "# Balancear Datos"
   ]
  },
  {
   "cell_type": "code",
   "execution_count": 1,
   "metadata": {},
   "outputs": [],
   "source": [
    "import pandas as pd"
   ]
  },
  {
   "cell_type": "code",
   "execution_count": 2,
   "metadata": {},
   "outputs": [],
   "source": [
    "ruta_archivo = \"C:/Users/Herre/Desktop/Entrega_TFM/TFM_EasyMoney/df_balanceo.csv\"\n",
    "\n",
    "# Leer el archivo\n",
    "df_balanceo = pd.read_csv(ruta_archivo)"
   ]
  },
  {
   "cell_type": "code",
   "execution_count": 3,
   "metadata": {},
   "outputs": [
    {
     "data": {
      "text/html": [
       "<div>\n",
       "<style scoped>\n",
       "    .dataframe tbody tr th:only-of-type {\n",
       "        vertical-align: middle;\n",
       "    }\n",
       "\n",
       "    .dataframe tbody tr th {\n",
       "        vertical-align: top;\n",
       "    }\n",
       "\n",
       "    .dataframe thead th {\n",
       "        text-align: right;\n",
       "    }\n",
       "</style>\n",
       "<table border=\"1\" class=\"dataframe\">\n",
       "  <thead>\n",
       "    <tr style=\"text-align: right;\">\n",
       "      <th></th>\n",
       "      <th>pk_cid</th>\n",
       "      <th>active_customer</th>\n",
       "      <th>segment</th>\n",
       "      <th>region_code</th>\n",
       "      <th>age</th>\n",
       "      <th>salary</th>\n",
       "      <th>entry_date_year</th>\n",
       "      <th>entry_date_month</th>\n",
       "      <th>entry_date_day</th>\n",
       "      <th>entry_date_weekday</th>\n",
       "      <th>...</th>\n",
       "      <th>entry_channel_KFC</th>\n",
       "      <th>entry_channel_KHE</th>\n",
       "      <th>entry_channel_KHQ</th>\n",
       "      <th>entry_channel_Otros</th>\n",
       "      <th>country_id_ES</th>\n",
       "      <th>gender_V</th>\n",
       "      <th>deceased_S</th>\n",
       "      <th>category_investment</th>\n",
       "      <th>category_financing</th>\n",
       "      <th>category_accounts</th>\n",
       "    </tr>\n",
       "  </thead>\n",
       "  <tbody>\n",
       "    <tr>\n",
       "      <th>0</th>\n",
       "      <td>1297423</td>\n",
       "      <td>0.0</td>\n",
       "      <td>2</td>\n",
       "      <td>28.0</td>\n",
       "      <td>47</td>\n",
       "      <td>192902.31</td>\n",
       "      <td>2017</td>\n",
       "      <td>8</td>\n",
       "      <td>18</td>\n",
       "      <td>4</td>\n",
       "      <td>...</td>\n",
       "      <td>0</td>\n",
       "      <td>0</td>\n",
       "      <td>0</td>\n",
       "      <td>1</td>\n",
       "      <td>1</td>\n",
       "      <td>0</td>\n",
       "      <td>0</td>\n",
       "      <td>0</td>\n",
       "      <td>0</td>\n",
       "      <td>0</td>\n",
       "    </tr>\n",
       "    <tr>\n",
       "      <th>1</th>\n",
       "      <td>1087842</td>\n",
       "      <td>0.0</td>\n",
       "      <td>1</td>\n",
       "      <td>41.0</td>\n",
       "      <td>26</td>\n",
       "      <td>2783985.75</td>\n",
       "      <td>2015</td>\n",
       "      <td>10</td>\n",
       "      <td>24</td>\n",
       "      <td>5</td>\n",
       "      <td>...</td>\n",
       "      <td>0</td>\n",
       "      <td>1</td>\n",
       "      <td>0</td>\n",
       "      <td>0</td>\n",
       "      <td>1</td>\n",
       "      <td>0</td>\n",
       "      <td>0</td>\n",
       "      <td>0</td>\n",
       "      <td>0</td>\n",
       "      <td>0</td>\n",
       "    </tr>\n",
       "    <tr>\n",
       "      <th>2</th>\n",
       "      <td>1147514</td>\n",
       "      <td>0.0</td>\n",
       "      <td>1</td>\n",
       "      <td>16.0</td>\n",
       "      <td>22</td>\n",
       "      <td>81755.43</td>\n",
       "      <td>2016</td>\n",
       "      <td>7</td>\n",
       "      <td>25</td>\n",
       "      <td>0</td>\n",
       "      <td>...</td>\n",
       "      <td>0</td>\n",
       "      <td>1</td>\n",
       "      <td>0</td>\n",
       "      <td>0</td>\n",
       "      <td>1</td>\n",
       "      <td>0</td>\n",
       "      <td>0</td>\n",
       "      <td>0</td>\n",
       "      <td>0</td>\n",
       "      <td>0</td>\n",
       "    </tr>\n",
       "    <tr>\n",
       "      <th>3</th>\n",
       "      <td>1147863</td>\n",
       "      <td>0.0</td>\n",
       "      <td>1</td>\n",
       "      <td>2.0</td>\n",
       "      <td>22</td>\n",
       "      <td>81755.43</td>\n",
       "      <td>2016</td>\n",
       "      <td>7</td>\n",
       "      <td>25</td>\n",
       "      <td>0</td>\n",
       "      <td>...</td>\n",
       "      <td>0</td>\n",
       "      <td>1</td>\n",
       "      <td>0</td>\n",
       "      <td>0</td>\n",
       "      <td>1</td>\n",
       "      <td>0</td>\n",
       "      <td>0</td>\n",
       "      <td>0</td>\n",
       "      <td>0</td>\n",
       "      <td>0</td>\n",
       "    </tr>\n",
       "    <tr>\n",
       "      <th>4</th>\n",
       "      <td>1147587</td>\n",
       "      <td>0.0</td>\n",
       "      <td>1</td>\n",
       "      <td>8.0</td>\n",
       "      <td>22</td>\n",
       "      <td>81755.43</td>\n",
       "      <td>2016</td>\n",
       "      <td>7</td>\n",
       "      <td>25</td>\n",
       "      <td>0</td>\n",
       "      <td>...</td>\n",
       "      <td>0</td>\n",
       "      <td>1</td>\n",
       "      <td>0</td>\n",
       "      <td>0</td>\n",
       "      <td>1</td>\n",
       "      <td>1</td>\n",
       "      <td>0</td>\n",
       "      <td>0</td>\n",
       "      <td>0</td>\n",
       "      <td>0</td>\n",
       "    </tr>\n",
       "    <tr>\n",
       "      <th>...</th>\n",
       "      <td>...</td>\n",
       "      <td>...</td>\n",
       "      <td>...</td>\n",
       "      <td>...</td>\n",
       "      <td>...</td>\n",
       "      <td>...</td>\n",
       "      <td>...</td>\n",
       "      <td>...</td>\n",
       "      <td>...</td>\n",
       "      <td>...</td>\n",
       "      <td>...</td>\n",
       "      <td>...</td>\n",
       "      <td>...</td>\n",
       "      <td>...</td>\n",
       "      <td>...</td>\n",
       "      <td>...</td>\n",
       "      <td>...</td>\n",
       "      <td>...</td>\n",
       "      <td>...</td>\n",
       "      <td>...</td>\n",
       "      <td>...</td>\n",
       "    </tr>\n",
       "    <tr>\n",
       "      <th>445484</th>\n",
       "      <td>1164494</td>\n",
       "      <td>0.0</td>\n",
       "      <td>1</td>\n",
       "      <td>30.0</td>\n",
       "      <td>22</td>\n",
       "      <td>67228.32</td>\n",
       "      <td>2016</td>\n",
       "      <td>8</td>\n",
       "      <td>13</td>\n",
       "      <td>5</td>\n",
       "      <td>...</td>\n",
       "      <td>0</td>\n",
       "      <td>1</td>\n",
       "      <td>0</td>\n",
       "      <td>0</td>\n",
       "      <td>1</td>\n",
       "      <td>0</td>\n",
       "      <td>0</td>\n",
       "      <td>0</td>\n",
       "      <td>0</td>\n",
       "      <td>0</td>\n",
       "    </tr>\n",
       "    <tr>\n",
       "      <th>445485</th>\n",
       "      <td>1164521</td>\n",
       "      <td>0.0</td>\n",
       "      <td>1</td>\n",
       "      <td>2.0</td>\n",
       "      <td>24</td>\n",
       "      <td>43249.20</td>\n",
       "      <td>2016</td>\n",
       "      <td>8</td>\n",
       "      <td>13</td>\n",
       "      <td>5</td>\n",
       "      <td>...</td>\n",
       "      <td>0</td>\n",
       "      <td>1</td>\n",
       "      <td>0</td>\n",
       "      <td>0</td>\n",
       "      <td>1</td>\n",
       "      <td>1</td>\n",
       "      <td>0</td>\n",
       "      <td>0</td>\n",
       "      <td>0</td>\n",
       "      <td>1</td>\n",
       "    </tr>\n",
       "    <tr>\n",
       "      <th>445486</th>\n",
       "      <td>1164462</td>\n",
       "      <td>0.0</td>\n",
       "      <td>1</td>\n",
       "      <td>13.0</td>\n",
       "      <td>25</td>\n",
       "      <td>94495.50</td>\n",
       "      <td>2016</td>\n",
       "      <td>8</td>\n",
       "      <td>13</td>\n",
       "      <td>5</td>\n",
       "      <td>...</td>\n",
       "      <td>0</td>\n",
       "      <td>1</td>\n",
       "      <td>0</td>\n",
       "      <td>0</td>\n",
       "      <td>1</td>\n",
       "      <td>0</td>\n",
       "      <td>0</td>\n",
       "      <td>0</td>\n",
       "      <td>0</td>\n",
       "      <td>1</td>\n",
       "    </tr>\n",
       "    <tr>\n",
       "      <th>445487</th>\n",
       "      <td>1164587</td>\n",
       "      <td>1.0</td>\n",
       "      <td>1</td>\n",
       "      <td>46.0</td>\n",
       "      <td>22</td>\n",
       "      <td>177287.82</td>\n",
       "      <td>2016</td>\n",
       "      <td>8</td>\n",
       "      <td>13</td>\n",
       "      <td>5</td>\n",
       "      <td>...</td>\n",
       "      <td>0</td>\n",
       "      <td>1</td>\n",
       "      <td>0</td>\n",
       "      <td>0</td>\n",
       "      <td>1</td>\n",
       "      <td>1</td>\n",
       "      <td>0</td>\n",
       "      <td>0</td>\n",
       "      <td>0</td>\n",
       "      <td>1</td>\n",
       "    </tr>\n",
       "    <tr>\n",
       "      <th>445488</th>\n",
       "      <td>1489273</td>\n",
       "      <td>1.0</td>\n",
       "      <td>2</td>\n",
       "      <td>22.0</td>\n",
       "      <td>28</td>\n",
       "      <td>60823.47</td>\n",
       "      <td>2018</td>\n",
       "      <td>10</td>\n",
       "      <td>24</td>\n",
       "      <td>2</td>\n",
       "      <td>...</td>\n",
       "      <td>0</td>\n",
       "      <td>0</td>\n",
       "      <td>0</td>\n",
       "      <td>1</td>\n",
       "      <td>1</td>\n",
       "      <td>1</td>\n",
       "      <td>0</td>\n",
       "      <td>0</td>\n",
       "      <td>0</td>\n",
       "      <td>1</td>\n",
       "    </tr>\n",
       "  </tbody>\n",
       "</table>\n",
       "<p>445489 rows × 24 columns</p>\n",
       "</div>"
      ],
      "text/plain": [
       "         pk_cid  active_customer  segment  region_code  age      salary  \\\n",
       "0       1297423              0.0        2         28.0   47   192902.31   \n",
       "1       1087842              0.0        1         41.0   26  2783985.75   \n",
       "2       1147514              0.0        1         16.0   22    81755.43   \n",
       "3       1147863              0.0        1          2.0   22    81755.43   \n",
       "4       1147587              0.0        1          8.0   22    81755.43   \n",
       "...         ...              ...      ...          ...  ...         ...   \n",
       "445484  1164494              0.0        1         30.0   22    67228.32   \n",
       "445485  1164521              0.0        1          2.0   24    43249.20   \n",
       "445486  1164462              0.0        1         13.0   25    94495.50   \n",
       "445487  1164587              1.0        1         46.0   22   177287.82   \n",
       "445488  1489273              1.0        2         22.0   28    60823.47   \n",
       "\n",
       "        entry_date_year  entry_date_month  entry_date_day  entry_date_weekday  \\\n",
       "0                  2017                 8              18                   4   \n",
       "1                  2015                10              24                   5   \n",
       "2                  2016                 7              25                   0   \n",
       "3                  2016                 7              25                   0   \n",
       "4                  2016                 7              25                   0   \n",
       "...                 ...               ...             ...                 ...   \n",
       "445484             2016                 8              13                   5   \n",
       "445485             2016                 8              13                   5   \n",
       "445486             2016                 8              13                   5   \n",
       "445487             2016                 8              13                   5   \n",
       "445488             2018                10              24                   2   \n",
       "\n",
       "        ...  entry_channel_KFC  entry_channel_KHE  entry_channel_KHQ  \\\n",
       "0       ...                  0                  0                  0   \n",
       "1       ...                  0                  1                  0   \n",
       "2       ...                  0                  1                  0   \n",
       "3       ...                  0                  1                  0   \n",
       "4       ...                  0                  1                  0   \n",
       "...     ...                ...                ...                ...   \n",
       "445484  ...                  0                  1                  0   \n",
       "445485  ...                  0                  1                  0   \n",
       "445486  ...                  0                  1                  0   \n",
       "445487  ...                  0                  1                  0   \n",
       "445488  ...                  0                  0                  0   \n",
       "\n",
       "        entry_channel_Otros  country_id_ES  gender_V  deceased_S  \\\n",
       "0                         1              1         0           0   \n",
       "1                         0              1         0           0   \n",
       "2                         0              1         0           0   \n",
       "3                         0              1         0           0   \n",
       "4                         0              1         1           0   \n",
       "...                     ...            ...       ...         ...   \n",
       "445484                    0              1         0           0   \n",
       "445485                    0              1         1           0   \n",
       "445486                    0              1         0           0   \n",
       "445487                    0              1         1           0   \n",
       "445488                    1              1         1           0   \n",
       "\n",
       "        category_investment  category_financing  category_accounts  \n",
       "0                         0                   0                  0  \n",
       "1                         0                   0                  0  \n",
       "2                         0                   0                  0  \n",
       "3                         0                   0                  0  \n",
       "4                         0                   0                  0  \n",
       "...                     ...                 ...                ...  \n",
       "445484                    0                   0                  0  \n",
       "445485                    0                   0                  1  \n",
       "445486                    0                   0                  1  \n",
       "445487                    0                   0                  1  \n",
       "445488                    0                   0                  1  \n",
       "\n",
       "[445489 rows x 24 columns]"
      ]
     },
     "execution_count": 3,
     "metadata": {},
     "output_type": "execute_result"
    }
   ],
   "source": [
    "df_balanceo"
   ]
  },
  {
   "cell_type": "markdown",
   "metadata": {},
   "source": [
    "Anteriormente nos hemos dado cuenta de que los datos en los 3 grupos de productos están muy descompensados.\n",
    "\n",
    "La gran mayoría de los usuarios No tienen los productos que ofrece el banco.\n",
    "\n",
    "Si no balanceamos los datos el porcentaje de acierto de los modelos se dispara debido al overfitting. Salen porcentajes de más del 98%."
   ]
  },
  {
   "cell_type": "markdown",
   "metadata": {},
   "source": [
    "# Investment"
   ]
  },
  {
   "cell_type": "code",
   "execution_count": 4,
   "metadata": {},
   "outputs": [
    {
     "data": {
      "text/plain": [
       "category_investment\n",
       "0    0.943525\n",
       "1    0.056475\n",
       "Name: proportion, dtype: float64"
      ]
     },
     "execution_count": 4,
     "metadata": {},
     "output_type": "execute_result"
    }
   ],
   "source": [
    "# Revisar la distribución de la variable objetivo\n",
    "df_balanceo['category_investment'].value_counts(normalize=True) # Reemplaza TARGET con tu columna real"
   ]
  },
  {
   "cell_type": "code",
   "execution_count": 5,
   "metadata": {},
   "outputs": [
    {
     "name": "stdout",
     "output_type": "stream",
     "text": [
      "Número de filas con '1': 25159\n"
     ]
    }
   ],
   "source": [
    "# Contar las ocurrencias de cada clase\n",
    "conteo_clases = df_balanceo['category_investment'].value_counts()\n",
    "\n",
    "# Mostrar el número de '1'\n",
    "num_1 = conteo_clases[1]\n",
    "print(f\"Número de filas con '1': {num_1}\")"
   ]
  },
  {
   "cell_type": "code",
   "execution_count": 6,
   "metadata": {},
   "outputs": [],
   "source": [
    "# Número de muestras de la clase \"1\" en df_balanceo\n",
    "num_1 = df_balanceo[df_balanceo['category_investment'] == 1].shape[0]\n",
    "\n",
    "# Seleccionar de manera aleatoria el mismo número de muestras de la clase \"0\"\n",
    "df_0_random = df_balanceo[df_balanceo['category_investment'] == 0].sample(n=num_1, random_state=42)\n",
    "\n",
    "# Crear el dataframe filtrado solo con los valores 1\n",
    "df_investment = df_balanceo[df_balanceo['category_investment'] == 1]\n",
    "\n",
    "# Unir ambos dataframes para tener uno balanceado\n",
    "df_investment = pd.concat([df_investment, df_0_random])\n",
    "\n",
    "# Mezclar las filas de manera aleatoria para evitar orden\n",
    "df_investment = df_investment.sample(frac=1, random_state=42).reset_index(drop=True)\n",
    "\n",
    "# df_investment ahora contiene el mismo número de \"0\" y \"1\" en la variable \"category_investment\""
   ]
  },
  {
   "cell_type": "code",
   "execution_count": 7,
   "metadata": {},
   "outputs": [
    {
     "data": {
      "text/plain": [
       "category_investment\n",
       "1    0.5\n",
       "0    0.5\n",
       "Name: proportion, dtype: float64"
      ]
     },
     "execution_count": 7,
     "metadata": {},
     "output_type": "execute_result"
    }
   ],
   "source": [
    "# Revisar la distribución de la variable objetivo\n",
    "df_investment['category_investment'].value_counts(normalize=True) # Reemplaza TARGET con tu columna real"
   ]
  },
  {
   "cell_type": "code",
   "execution_count": 8,
   "metadata": {},
   "outputs": [],
   "source": [
    "df_investment.reset_index(drop=True,inplace=True)"
   ]
  },
  {
   "cell_type": "markdown",
   "metadata": {},
   "source": [
    "### Retirar columnas"
   ]
  },
  {
   "cell_type": "markdown",
   "metadata": {},
   "source": [
    "Esto afectaba negativamente"
   ]
  },
  {
   "cell_type": "code",
   "execution_count": null,
   "metadata": {},
   "outputs": [],
   "source": [
    "# Eliminar las columnas category_financing y category_accounts\n",
    "df_investment = df_investment.drop(columns=['category_financing', 'category_accounts'])\n",
    "\n",
    "# Verificamos que las columnas hayan sido eliminadas\n",
    "print(df_investment.columns)"
   ]
  },
  {
   "cell_type": "code",
   "execution_count": 9,
   "metadata": {},
   "outputs": [],
   "source": [
    "modelo_investment = df_investment.copy() "
   ]
  },
  {
   "cell_type": "code",
   "execution_count": 10,
   "metadata": {},
   "outputs": [],
   "source": [
    "# Guardar resultados\n",
    "modelo_investment.to_csv('modelo_investment.csv', index=False)"
   ]
  },
  {
   "cell_type": "markdown",
   "metadata": {},
   "source": [
    "# Financing"
   ]
  },
  {
   "cell_type": "code",
   "execution_count": 11,
   "metadata": {},
   "outputs": [
    {
     "data": {
      "text/plain": [
       "category_financing\n",
       "0    0.989205\n",
       "1    0.010795\n",
       "Name: proportion, dtype: float64"
      ]
     },
     "execution_count": 11,
     "metadata": {},
     "output_type": "execute_result"
    }
   ],
   "source": [
    "# Revisar la distribución de la variable objetivo\n",
    "df_balanceo['category_financing'].value_counts(normalize=True) # Reemplaza TARGET con tu columna real"
   ]
  },
  {
   "cell_type": "code",
   "execution_count": 12,
   "metadata": {},
   "outputs": [
    {
     "name": "stdout",
     "output_type": "stream",
     "text": [
      "Número de filas con '1': 4809\n"
     ]
    }
   ],
   "source": [
    "# Contar las ocurrencias de cada clase\n",
    "conteo_clases = df_balanceo['category_financing'].value_counts()\n",
    "\n",
    "# Mostrar el número de '1'\n",
    "num_1 = conteo_clases[1]\n",
    "print(f\"Número de filas con '1': {num_1}\")"
   ]
  },
  {
   "cell_type": "code",
   "execution_count": 13,
   "metadata": {},
   "outputs": [],
   "source": [
    "# Número de muestras de la clase \"1\" en df_balanceo\n",
    "num_1 = df_balanceo[df_balanceo['category_financing'] == 1].shape[0]\n",
    "\n",
    "# Seleccionar de manera aleatoria el mismo número de muestras de la clase \"0\"\n",
    "df_0_random = df_balanceo[df_balanceo['category_financing'] == 0].sample(n=num_1, random_state=42)\n",
    "\n",
    "# Crear el dataframe filtrado solo con los valores 1\n",
    "df_financing = df_balanceo[df_balanceo['category_financing'] == 1]\n",
    "\n",
    "# Unir ambos dataframes para tener uno balanceado\n",
    "df_financing = pd.concat([df_financing, df_0_random])\n",
    "\n",
    "# Mezclar las filas de manera aleatoria para evitar orden\n",
    "df_financing = df_financing.sample(frac=1, random_state=42).reset_index(drop=True)\n",
    "\n",
    "# df_investment ahora contiene el mismo número de \"0\" y \"1\" en la variable \"category_investment\""
   ]
  },
  {
   "cell_type": "code",
   "execution_count": 14,
   "metadata": {},
   "outputs": [
    {
     "data": {
      "text/plain": [
       "category_financing\n",
       "1    0.5\n",
       "0    0.5\n",
       "Name: proportion, dtype: float64"
      ]
     },
     "execution_count": 14,
     "metadata": {},
     "output_type": "execute_result"
    }
   ],
   "source": [
    "# Revisar la distribución de la variable objetivo\n",
    "df_financing['category_financing'].value_counts(normalize=True) # Reemplaza TARGET con tu columna real"
   ]
  },
  {
   "cell_type": "code",
   "execution_count": 15,
   "metadata": {},
   "outputs": [
    {
     "name": "stdout",
     "output_type": "stream",
     "text": [
      "<class 'pandas.core.frame.DataFrame'>\n",
      "RangeIndex: 9618 entries, 0 to 9617\n",
      "Data columns (total 24 columns):\n",
      " #   Column                Non-Null Count  Dtype  \n",
      "---  ------                --------------  -----  \n",
      " 0   pk_cid                9618 non-null   int64  \n",
      " 1   active_customer       9618 non-null   float64\n",
      " 2   segment               9618 non-null   int64  \n",
      " 3   region_code           9618 non-null   float64\n",
      " 4   age                   9618 non-null   int64  \n",
      " 5   salary                9618 non-null   float64\n",
      " 6   entry_date_year       9618 non-null   int64  \n",
      " 7   entry_date_month      9618 non-null   int64  \n",
      " 8   entry_date_day        9618 non-null   int64  \n",
      " 9   entry_date_weekday    9618 non-null   int64  \n",
      " 10  pk_partition_year     9618 non-null   int64  \n",
      " 11  pk_partition_month    9618 non-null   int64  \n",
      " 12  pk_partition_day      9618 non-null   int64  \n",
      " 13  pk_partition_weekday  9618 non-null   int64  \n",
      " 14  entry_channel_KFC     9618 non-null   int64  \n",
      " 15  entry_channel_KHE     9618 non-null   int64  \n",
      " 16  entry_channel_KHQ     9618 non-null   int64  \n",
      " 17  entry_channel_Otros   9618 non-null   int64  \n",
      " 18  country_id_ES         9618 non-null   int64  \n",
      " 19  gender_V              9618 non-null   int64  \n",
      " 20  deceased_S            9618 non-null   int64  \n",
      " 21  category_investment   9618 non-null   int64  \n",
      " 22  category_financing    9618 non-null   int64  \n",
      " 23  category_accounts     9618 non-null   int64  \n",
      "dtypes: float64(3), int64(21)\n",
      "memory usage: 1.8 MB\n"
     ]
    }
   ],
   "source": [
    "df_financing.info()"
   ]
  },
  {
   "cell_type": "code",
   "execution_count": 16,
   "metadata": {},
   "outputs": [],
   "source": [
    "df_financing.reset_index(drop=True,inplace=True)"
   ]
  },
  {
   "cell_type": "code",
   "execution_count": 17,
   "metadata": {},
   "outputs": [],
   "source": [
    "modelo_financing = df_financing.copy() "
   ]
  },
  {
   "cell_type": "code",
   "execution_count": 18,
   "metadata": {},
   "outputs": [],
   "source": [
    "# Guardar resultados\n",
    "modelo_financing.to_csv('modelo_financing.csv', index=False)"
   ]
  },
  {
   "cell_type": "markdown",
   "metadata": {},
   "source": [
    "# Account"
   ]
  },
  {
   "cell_type": "code",
   "execution_count": 19,
   "metadata": {},
   "outputs": [
    {
     "name": "stdout",
     "output_type": "stream",
     "text": [
      "<class 'pandas.core.frame.DataFrame'>\n",
      "RangeIndex: 445489 entries, 0 to 445488\n",
      "Data columns (total 24 columns):\n",
      " #   Column                Non-Null Count   Dtype  \n",
      "---  ------                --------------   -----  \n",
      " 0   pk_cid                445489 non-null  int64  \n",
      " 1   active_customer       445489 non-null  float64\n",
      " 2   segment               445489 non-null  int64  \n",
      " 3   region_code           445489 non-null  float64\n",
      " 4   age                   445489 non-null  int64  \n",
      " 5   salary                445489 non-null  float64\n",
      " 6   entry_date_year       445489 non-null  int64  \n",
      " 7   entry_date_month      445489 non-null  int64  \n",
      " 8   entry_date_day        445489 non-null  int64  \n",
      " 9   entry_date_weekday    445489 non-null  int64  \n",
      " 10  pk_partition_year     445489 non-null  int64  \n",
      " 11  pk_partition_month    445489 non-null  int64  \n",
      " 12  pk_partition_day      445489 non-null  int64  \n",
      " 13  pk_partition_weekday  445489 non-null  int64  \n",
      " 14  entry_channel_KFC     445489 non-null  int64  \n",
      " 15  entry_channel_KHE     445489 non-null  int64  \n",
      " 16  entry_channel_KHQ     445489 non-null  int64  \n",
      " 17  entry_channel_Otros   445489 non-null  int64  \n",
      " 18  country_id_ES         445489 non-null  int64  \n",
      " 19  gender_V              445489 non-null  int64  \n",
      " 20  deceased_S            445489 non-null  int64  \n",
      " 21  category_investment   445489 non-null  int64  \n",
      " 22  category_financing    445489 non-null  int64  \n",
      " 23  category_accounts     445489 non-null  int64  \n",
      "dtypes: float64(3), int64(21)\n",
      "memory usage: 81.6 MB\n"
     ]
    }
   ],
   "source": [
    "df_balanceo.info()"
   ]
  },
  {
   "cell_type": "code",
   "execution_count": 20,
   "metadata": {},
   "outputs": [
    {
     "data": {
      "text/plain": [
       "category_accounts\n",
       "1    0.735805\n",
       "0    0.264195\n",
       "Name: proportion, dtype: float64"
      ]
     },
     "execution_count": 20,
     "metadata": {},
     "output_type": "execute_result"
    }
   ],
   "source": [
    "# Revisar la distribución de la variable objetivo\n",
    "df_balanceo['category_accounts'].value_counts(normalize=True) # Reemplaza TARGET con tu columna real"
   ]
  },
  {
   "cell_type": "code",
   "execution_count": 21,
   "metadata": {},
   "outputs": [
    {
     "name": "stdout",
     "output_type": "stream",
     "text": [
      "Número de filas con '0': 117696\n"
     ]
    }
   ],
   "source": [
    "# Contar las ocurrencias de cada clase\n",
    "conteo_clases = df_balanceo['category_accounts'].value_counts()\n",
    "\n",
    "# Mostrar el número de '0'\n",
    "num_0 = conteo_clases[0]\n",
    "print(f\"Número de filas con '0': {num_0}\")"
   ]
  },
  {
   "cell_type": "code",
   "execution_count": 22,
   "metadata": {},
   "outputs": [],
   "source": [
    "# Número de muestras de la clase \"0\" en df_balanceo\n",
    "num_0 = df_balanceo[df_balanceo['category_accounts'] == 0].shape[0]\n",
    "\n",
    "# Seleccionar de manera aleatoria el mismo número de muestras de la clase \"1\"\n",
    "# Añadir replace=True para permitir la selección con reemplazo si es necesario\n",
    "df_1_random = df_balanceo[df_balanceo['category_accounts'] == 1].sample(n=num_0, replace=True, random_state=42)\n",
    "\n",
    "# Crear el dataframe filtrado solo con los valores 0\n",
    "df_account = df_balanceo[df_balanceo['category_accounts'] == 0]\n",
    "\n",
    "# Unir ambos dataframes para tener un conjunto balanceado\n",
    "df_account = pd.concat([df_account, df_1_random])\n",
    "\n",
    "# Mezclar las filas de manera aleatoria para evitar orden\n",
    "df_account = df_account.sample(frac=1, random_state=42).reset_index(drop=True)\n",
    "\n",
    "# Ahora df_account contiene el mismo número de \"0\" y \"1\" en la variable 'category_accounts'"
   ]
  },
  {
   "cell_type": "code",
   "execution_count": 23,
   "metadata": {},
   "outputs": [
    {
     "data": {
      "text/plain": [
       "category_accounts\n",
       "1    0.5\n",
       "0    0.5\n",
       "Name: proportion, dtype: float64"
      ]
     },
     "execution_count": 23,
     "metadata": {},
     "output_type": "execute_result"
    }
   ],
   "source": [
    "# Revisar la distribución de la variable objetivo\n",
    "df_account['category_accounts'].value_counts(normalize=True) # Reemplaza TARGET con tu columna real"
   ]
  },
  {
   "cell_type": "code",
   "execution_count": null,
   "metadata": {},
   "outputs": [],
   "source": [
    "df_account.info()"
   ]
  },
  {
   "cell_type": "code",
   "execution_count": 24,
   "metadata": {},
   "outputs": [],
   "source": [
    "df_account.reset_index(drop=True,inplace=True)"
   ]
  },
  {
   "cell_type": "code",
   "execution_count": 25,
   "metadata": {},
   "outputs": [],
   "source": [
    "modelo_account = df_account.copy() "
   ]
  },
  {
   "cell_type": "code",
   "execution_count": null,
   "metadata": {},
   "outputs": [],
   "source": [
    "modelo_account.info()"
   ]
  },
  {
   "cell_type": "code",
   "execution_count": 26,
   "metadata": {},
   "outputs": [],
   "source": [
    "# Guardar resultados\n",
    "modelo_account.to_csv('modelo_account.csv', index=False)"
   ]
  }
 ],
 "metadata": {
  "kernelspec": {
   "display_name": "base",
   "language": "python",
   "name": "python3"
  },
  "language_info": {
   "codemirror_mode": {
    "name": "ipython",
    "version": 3
   },
   "file_extension": ".py",
   "mimetype": "text/x-python",
   "name": "python",
   "nbconvert_exporter": "python",
   "pygments_lexer": "ipython3",
   "version": "3.12.3"
  }
 },
 "nbformat": 4,
 "nbformat_minor": 2
}
