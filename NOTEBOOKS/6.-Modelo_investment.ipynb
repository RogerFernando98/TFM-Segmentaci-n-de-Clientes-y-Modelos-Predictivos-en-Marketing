{
 "cells": [
  {
   "cell_type": "markdown",
   "metadata": {},
   "source": [
    "# Librerías"
   ]
  },
  {
   "cell_type": "code",
   "execution_count": 1,
   "metadata": {},
   "outputs": [],
   "source": [
    "# cálculos\n",
    "import numpy as np\n",
    "import pandas as pd\n",
    "import math\n",
    "\n",
    "# fechas\n",
    "from datetime import datetime\n",
    "\n",
    "# gráficos\n",
    "import seaborn as sns\n",
    "import matplotlib.pyplot as plt\n",
    "\n",
    "# preprocessing\n",
    "from sklearn.preprocessing import StandardScaler\n",
    "from sklearn.model_selection import train_test_split\n",
    "\n",
    "# modelos\n",
    "from sklearn.svm import SVC\n",
    "from sklearn.linear_model import LogisticRegression, RidgeClassifier\n",
    "from sklearn.tree import DecisionTreeClassifier\n",
    "from sklearn.ensemble import RandomForestClassifier, GradientBoostingClassifier\n",
    "from xgboost import XGBClassifier\n",
    "from catboost import CatBoostClassifier\n",
    "from sklearn.metrics import accuracy_score, roc_auc_score\n",
    "\n",
    "# metricas\n",
    "import sklearn.metrics as metrics\n",
    "\n",
    "# hiperparametrizado\n",
    "from sklearn.model_selection import GridSearchCV\n",
    "\n",
    "# quitar alertas\n",
    "import warnings\n",
    "warnings.filterwarnings(\"ignore\")\n",
    "\n"
   ]
  },
  {
   "cell_type": "code",
   "execution_count": 3,
   "metadata": {},
   "outputs": [],
   "source": [
    "# Ruta al archivo \n",
    "ruta_archivo = \"C:/Users/Herre/Desktop/NUCLIO/Entrega_TFM/modelo_investment.csv\"\n",
    "# Leer el archivo \n",
    "df_modelo = pd.read_csv(ruta_archivo)"
   ]
  },
  {
   "cell_type": "code",
   "execution_count": 5,
   "metadata": {},
   "outputs": [],
   "source": [
    "# En CatBoost no hace falta estandarizar"
   ]
  },
  {
   "cell_type": "code",
   "execution_count": 4,
   "metadata": {},
   "outputs": [],
   "source": [
    "# 1. Dividir los datos en variables predictoras y target\n",
    "# Asumamos que la columna 'category_investment' es la que queremos predecir\n",
    "X = df_modelo.drop('category_investment', axis=1)  # Eliminar la columna target del conjunto de datos\n",
    "y = df_modelo['category_investment']  # Definir la columna objetivo\n",
    "\n",
    "# 2. Dividir los datos en conjuntos de entrenamiento y prueba\n",
    "X_train, X_test, y_train, y_test = train_test_split(X, y, test_size=0.2, random_state=42)"
   ]
  },
  {
   "cell_type": "markdown",
   "metadata": {},
   "source": [
    "# Toreno de modelos"
   ]
  },
  {
   "cell_type": "code",
   "execution_count": 5,
   "metadata": {},
   "outputs": [
    {
     "data": {
      "text/html": [
       "<div>\n",
       "<style scoped>\n",
       "    .dataframe tbody tr th:only-of-type {\n",
       "        vertical-align: middle;\n",
       "    }\n",
       "\n",
       "    .dataframe tbody tr th {\n",
       "        vertical-align: top;\n",
       "    }\n",
       "\n",
       "    .dataframe thead th {\n",
       "        text-align: right;\n",
       "    }\n",
       "</style>\n",
       "<table border=\"1\" class=\"dataframe\">\n",
       "  <thead>\n",
       "    <tr style=\"text-align: right;\">\n",
       "      <th></th>\n",
       "      <th>modelo</th>\n",
       "      <th>f1_score</th>\n",
       "    </tr>\n",
       "  </thead>\n",
       "  <tbody>\n",
       "  </tbody>\n",
       "</table>\n",
       "</div>"
      ],
      "text/plain": [
       "Empty DataFrame\n",
       "Columns: [modelo, f1_score]\n",
       "Index: []"
      ]
     },
     "execution_count": 5,
     "metadata": {},
     "output_type": "execute_result"
    }
   ],
   "source": [
    "f1s = pd.DataFrame(columns=['modelo', 'f1_score'])\n",
    "f1s"
   ]
  },
  {
   "cell_type": "code",
   "execution_count": 6,
   "metadata": {},
   "outputs": [],
   "source": [
    "# añadimos en una lista los modelos que queremos poner a competir\n",
    "\n",
    "modelos = []\n",
    "modelos.append(('SVC', SVC()))\n",
    "modelos.append(('LogisticRegression', LogisticRegression()))\n",
    "modelos.append(('RidgeClassifier', RidgeClassifier()))\n",
    "modelos.append(('DecisionTreeClassifier', DecisionTreeClassifier()))\n",
    "modelos.append(('RandomForestClassifier', RandomForestClassifier()))\n",
    "modelos.append(('GradientBoostingClassifier', GradientBoostingClassifier()))\n",
    "modelos.append(('XGBClassifier', XGBClassifier()))\n",
    "modelos.append(('CatBoostClassifier', CatBoostClassifier(verbose=False)))"
   ]
  },
  {
   "cell_type": "code",
   "execution_count": 7,
   "metadata": {},
   "outputs": [
    {
     "name": "stdout",
     "output_type": "stream",
     "text": [
      "SVC 0.51548\n",
      "LogisticRegression 0.70655\n",
      "RidgeClassifier 0.83695\n",
      "DecisionTreeClassifier 0.79201\n",
      "RandomForestClassifier 0.85843\n",
      "GradientBoostingClassifier 0.86368\n",
      "XGBClassifier 0.85834\n",
      "CatBoostClassifier 0.86586\n"
     ]
    }
   ],
   "source": [
    "for nombre, modelo in modelos:\n",
    "  # entrenamiento\n",
    "  modelo.fit(X_train, y_train)\n",
    "\n",
    "  # predicción del test\n",
    "  y_pred = modelo.predict(X_test)\n",
    "\n",
    "  # evalua la metrica\n",
    "  f1_score = metrics.f1_score(y_test, y_pred, average='macro')\n",
    "  #el average='macro' se usa cuando estamos haciendo modelos multiclases. Sino lo pones el modelo peta.\n",
    "\n",
    "  # añade la métrica al dataframe de métricas\n",
    "  metrica = pd.DataFrame({'modelo':[nombre], 'f1_score':[f1_score]})\n",
    "\n",
    "  print(nombre, np.round(f1_score,5))\n",
    "\n",
    "  f1s = pd.concat([f1s,metrica], ignore_index=True)"
   ]
  },
  {
   "cell_type": "code",
   "execution_count": 8,
   "metadata": {},
   "outputs": [
    {
     "data": {
      "text/html": [
       "<div>\n",
       "<style scoped>\n",
       "    .dataframe tbody tr th:only-of-type {\n",
       "        vertical-align: middle;\n",
       "    }\n",
       "\n",
       "    .dataframe tbody tr th {\n",
       "        vertical-align: top;\n",
       "    }\n",
       "\n",
       "    .dataframe thead th {\n",
       "        text-align: right;\n",
       "    }\n",
       "</style>\n",
       "<table border=\"1\" class=\"dataframe\">\n",
       "  <thead>\n",
       "    <tr style=\"text-align: right;\">\n",
       "      <th></th>\n",
       "      <th>modelo</th>\n",
       "      <th>f1_score</th>\n",
       "    </tr>\n",
       "  </thead>\n",
       "  <tbody>\n",
       "    <tr>\n",
       "      <th>7</th>\n",
       "      <td>CatBoostClassifier</td>\n",
       "      <td>0.865864</td>\n",
       "    </tr>\n",
       "    <tr>\n",
       "      <th>5</th>\n",
       "      <td>GradientBoostingClassifier</td>\n",
       "      <td>0.863677</td>\n",
       "    </tr>\n",
       "    <tr>\n",
       "      <th>4</th>\n",
       "      <td>RandomForestClassifier</td>\n",
       "      <td>0.858429</td>\n",
       "    </tr>\n",
       "    <tr>\n",
       "      <th>6</th>\n",
       "      <td>XGBClassifier</td>\n",
       "      <td>0.858339</td>\n",
       "    </tr>\n",
       "    <tr>\n",
       "      <th>2</th>\n",
       "      <td>RidgeClassifier</td>\n",
       "      <td>0.836951</td>\n",
       "    </tr>\n",
       "    <tr>\n",
       "      <th>3</th>\n",
       "      <td>DecisionTreeClassifier</td>\n",
       "      <td>0.792010</td>\n",
       "    </tr>\n",
       "    <tr>\n",
       "      <th>1</th>\n",
       "      <td>LogisticRegression</td>\n",
       "      <td>0.706549</td>\n",
       "    </tr>\n",
       "    <tr>\n",
       "      <th>0</th>\n",
       "      <td>SVC</td>\n",
       "      <td>0.515478</td>\n",
       "    </tr>\n",
       "  </tbody>\n",
       "</table>\n",
       "</div>"
      ],
      "text/plain": [
       "                       modelo  f1_score\n",
       "7          CatBoostClassifier  0.865864\n",
       "5  GradientBoostingClassifier  0.863677\n",
       "4      RandomForestClassifier  0.858429\n",
       "6               XGBClassifier  0.858339\n",
       "2             RidgeClassifier  0.836951\n",
       "3      DecisionTreeClassifier  0.792010\n",
       "1          LogisticRegression  0.706549\n",
       "0                         SVC  0.515478"
      ]
     },
     "execution_count": 8,
     "metadata": {},
     "output_type": "execute_result"
    }
   ],
   "source": [
    "f1s.sort_values('f1_score', ascending= False)"
   ]
  },
  {
   "cell_type": "markdown",
   "metadata": {},
   "source": [
    "# Modelo"
   ]
  },
  {
   "cell_type": "code",
   "execution_count": 9,
   "metadata": {},
   "outputs": [
    {
     "name": "stdout",
     "output_type": "stream",
     "text": [
      "0:\tlearn: 0.5825083\ttotal: 7.66ms\tremaining: 7.66s\n",
      "100:\tlearn: 0.3024858\ttotal: 619ms\tremaining: 5.5s\n",
      "200:\tlearn: 0.2898113\ttotal: 1.25s\tremaining: 4.96s\n",
      "300:\tlearn: 0.2794708\ttotal: 1.86s\tremaining: 4.33s\n",
      "400:\tlearn: 0.2709426\ttotal: 2.48s\tremaining: 3.7s\n",
      "500:\tlearn: 0.2621439\ttotal: 3.09s\tremaining: 3.07s\n",
      "600:\tlearn: 0.2549934\ttotal: 3.69s\tremaining: 2.45s\n",
      "700:\tlearn: 0.2476921\ttotal: 4.31s\tremaining: 1.84s\n",
      "800:\tlearn: 0.2413005\ttotal: 4.9s\tremaining: 1.22s\n",
      "900:\tlearn: 0.2350303\ttotal: 5.5s\tremaining: 605ms\n",
      "999:\tlearn: 0.2287599\ttotal: 6.1s\tremaining: 0us\n",
      "Accuracy: 0.8645\n",
      "ROC AUC: 0.9157\n"
     ]
    }
   ],
   "source": [
    "# Definir el modelo de CatBoost\n",
    "# No necesitamos especificar las características categóricas manualmente\n",
    "model = CatBoostClassifier(iterations=1000, learning_rate=0.1, depth=6, verbose=100)\n",
    "\n",
    "# Entrenar el modelo\n",
    "model.fit(X_train, y_train)\n",
    "\n",
    "# Hacer predicciones\n",
    "y_pred = model.predict(X_test)\n",
    "y_pred_proba = model.predict_proba(X_test)[:, 1]\n",
    "\n",
    "# Evaluar el modelo\n",
    "accuracy = accuracy_score(y_test, y_pred)\n",
    "roc_auc = roc_auc_score(y_test, y_pred_proba)\n",
    "\n",
    "print(f'Accuracy: {accuracy:.4f}')\n",
    "print(f'ROC AUC: {roc_auc:.4f}')"
   ]
  },
  {
   "cell_type": "code",
   "execution_count": 10,
   "metadata": {},
   "outputs": [
    {
     "name": "stdout",
     "output_type": "stream",
     "text": [
      "        pk_cid  prediccion  probabilidad_compra\n",
      "4969   1413059           1             0.852624\n",
      "36503  1325106           1             0.703597\n",
      "21867  1140945           0             0.015178\n",
      "36058  1203768           0             0.000128\n",
      "14458  1214866           0             0.002784\n"
     ]
    }
   ],
   "source": [
    "# Nos aseguramos de que la columna 'pk_cid' esté en X_test\n",
    "\n",
    "# Crear un nuevo DataFrame con pk_cid, las predicciones y las probabilidades\n",
    "df_resultado = X_test[['pk_cid']].copy()  # Copiamos la columna pk_cid de X_test\n",
    "df_resultado['prediccion'] = y_pred  # Agregamos la columna de predicciones\n",
    "df_resultado['probabilidad_compra'] = y_pred_proba  # Agregamos la columna de probabilidades\n",
    "\n",
    "# Mostrar el nuevo DataFrame directamente en pantalla\n",
    "print(df_resultado.head())  # Muestra las primeras filas del DataFrame"
   ]
  },
  {
   "cell_type": "code",
   "execution_count": 25,
   "metadata": {},
   "outputs": [
    {
     "name": "stdout",
     "output_type": "stream",
     "text": [
      "Precisión: 86.52%\n"
     ]
    }
   ],
   "source": [
    "# Calcular la precisión\n",
    "accuracy = accuracy_score(y_test, y_pred)\n",
    "print(f\"Precisión: {accuracy * 100:.2f}%\")"
   ]
  },
  {
   "cell_type": "code",
   "execution_count": 15,
   "metadata": {},
   "outputs": [
    {
     "data": {
      "text/plain": [
       "prediccion\n",
       "1    0.5782\n",
       "0    0.4218\n",
       "Name: proportion, dtype: float64"
      ]
     },
     "execution_count": 15,
     "metadata": {},
     "output_type": "execute_result"
    }
   ],
   "source": [
    "# Revisar la distribución de la variable objetivo\n",
    "df_resultado['prediccion'].value_counts(normalize=True)"
   ]
  },
  {
   "cell_type": "code",
   "execution_count": 16,
   "metadata": {},
   "outputs": [
    {
     "data": {
      "text/plain": [
       "0.9994243724264922"
      ]
     },
     "execution_count": 16,
     "metadata": {},
     "output_type": "execute_result"
    }
   ],
   "source": [
    "df_resultado[\"probabilidad_compra\"].max()"
   ]
  },
  {
   "cell_type": "markdown",
   "metadata": {},
   "source": [
    "Necesitamos a los clientes con una buena probabilidad de compra, es por eso que escogemos a aquellos con una probabilidad superior al 70%."
   ]
  },
  {
   "cell_type": "code",
   "execution_count": 11,
   "metadata": {},
   "outputs": [],
   "source": [
    "# Filtrar filas donde la probabilidad de compra sea mayor al 60%\n",
    "df_filtrado = df_resultado[df_resultado['probabilidad_compra'] > 0.70]"
   ]
  },
  {
   "cell_type": "code",
   "execution_count": 23,
   "metadata": {},
   "outputs": [
    {
     "data": {
      "text/html": [
       "<div>\n",
       "<style scoped>\n",
       "    .dataframe tbody tr th:only-of-type {\n",
       "        vertical-align: middle;\n",
       "    }\n",
       "\n",
       "    .dataframe tbody tr th {\n",
       "        vertical-align: top;\n",
       "    }\n",
       "\n",
       "    .dataframe thead th {\n",
       "        text-align: right;\n",
       "    }\n",
       "</style>\n",
       "<table border=\"1\" class=\"dataframe\">\n",
       "  <thead>\n",
       "    <tr style=\"text-align: right;\">\n",
       "      <th></th>\n",
       "      <th>pk_cid</th>\n",
       "      <th>prediccion</th>\n",
       "      <th>probabilidad_compra</th>\n",
       "    </tr>\n",
       "  </thead>\n",
       "  <tbody>\n",
       "    <tr>\n",
       "      <th>4969</th>\n",
       "      <td>1413059</td>\n",
       "      <td>1</td>\n",
       "      <td>0.870315</td>\n",
       "    </tr>\n",
       "    <tr>\n",
       "      <th>50255</th>\n",
       "      <td>1264917</td>\n",
       "      <td>1</td>\n",
       "      <td>0.788055</td>\n",
       "    </tr>\n",
       "    <tr>\n",
       "      <th>6361</th>\n",
       "      <td>1174487</td>\n",
       "      <td>1</td>\n",
       "      <td>0.853140</td>\n",
       "    </tr>\n",
       "    <tr>\n",
       "      <th>17255</th>\n",
       "      <td>1239811</td>\n",
       "      <td>1</td>\n",
       "      <td>0.880158</td>\n",
       "    </tr>\n",
       "    <tr>\n",
       "      <th>8939</th>\n",
       "      <td>1392989</td>\n",
       "      <td>1</td>\n",
       "      <td>0.704475</td>\n",
       "    </tr>\n",
       "    <tr>\n",
       "      <th>...</th>\n",
       "      <td>...</td>\n",
       "      <td>...</td>\n",
       "      <td>...</td>\n",
       "    </tr>\n",
       "    <tr>\n",
       "      <th>11026</th>\n",
       "      <td>1521133</td>\n",
       "      <td>1</td>\n",
       "      <td>0.795437</td>\n",
       "    </tr>\n",
       "    <tr>\n",
       "      <th>24360</th>\n",
       "      <td>1235346</td>\n",
       "      <td>1</td>\n",
       "      <td>0.762751</td>\n",
       "    </tr>\n",
       "    <tr>\n",
       "      <th>29653</th>\n",
       "      <td>1519030</td>\n",
       "      <td>1</td>\n",
       "      <td>0.784230</td>\n",
       "    </tr>\n",
       "    <tr>\n",
       "      <th>16188</th>\n",
       "      <td>1173595</td>\n",
       "      <td>1</td>\n",
       "      <td>0.844871</td>\n",
       "    </tr>\n",
       "    <tr>\n",
       "      <th>24579</th>\n",
       "      <td>1240546</td>\n",
       "      <td>1</td>\n",
       "      <td>0.714009</td>\n",
       "    </tr>\n",
       "  </tbody>\n",
       "</table>\n",
       "<p>4991 rows × 3 columns</p>\n",
       "</div>"
      ],
      "text/plain": [
       "        pk_cid  prediccion  probabilidad_compra\n",
       "4969   1413059           1             0.870315\n",
       "50255  1264917           1             0.788055\n",
       "6361   1174487           1             0.853140\n",
       "17255  1239811           1             0.880158\n",
       "8939   1392989           1             0.704475\n",
       "...        ...         ...                  ...\n",
       "11026  1521133           1             0.795437\n",
       "24360  1235346           1             0.762751\n",
       "29653  1519030           1             0.784230\n",
       "16188  1173595           1             0.844871\n",
       "24579  1240546           1             0.714009\n",
       "\n",
       "[4991 rows x 3 columns]"
      ]
     },
     "execution_count": 23,
     "metadata": {},
     "output_type": "execute_result"
    }
   ],
   "source": [
    "df_filtrado"
   ]
  },
  {
   "cell_type": "markdown",
   "metadata": {},
   "source": [
    "Exportamos la prediccion porque la necesitaremos más adelante para conocer los ingresos que tendrá la empresa. Nos quedamos con todos los clientes con una probabilidad de comrpa superiro al 70% porque son solo 4991."
   ]
  },
  {
   "cell_type": "code",
   "execution_count": 12,
   "metadata": {},
   "outputs": [],
   "source": [
    "# Guardar el DataFrame en un archivo CSV para revisarlo luego\n",
    "df_filtrado.to_csv('investment_resultado_predicciones.csv', index=False)"
   ]
  }
 ],
 "metadata": {
  "kernelspec": {
   "display_name": "Python 3",
   "language": "python",
   "name": "python3"
  },
  "language_info": {
   "codemirror_mode": {
    "name": "ipython",
    "version": 3
   },
   "file_extension": ".py",
   "mimetype": "text/x-python",
   "name": "python",
   "nbconvert_exporter": "python",
   "pygments_lexer": "ipython3",
   "version": "3.12.3"
  }
 },
 "nbformat": 4,
 "nbformat_minor": 2
}
